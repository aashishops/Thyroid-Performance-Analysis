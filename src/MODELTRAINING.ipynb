{
 "cells": [
  {
   "cell_type": "markdown",
   "metadata": {},
   "source": [
    "**IMPORTING NECESSARY MODULES FOR MODEL TRAINING/TESTING AND VISUALISATION**"
   ]
  },
  {
   "cell_type": "code",
   "execution_count": 2,
   "metadata": {},
   "outputs": [
    {
     "name": "stdout",
     "output_type": "stream",
     "text": [
      "WARNING:tensorflow:From c:\\Users\\aashi\\anaconda3\\Lib\\site-packages\\keras\\src\\losses.py:2976: The name tf.losses.sparse_softmax_cross_entropy is deprecated. Please use tf.compat.v1.losses.sparse_softmax_cross_entropy instead.\n",
      "\n"
     ]
    }
   ],
   "source": [
    "import pandas as pd\n",
    "import numpy as np\n",
    "import matplotlib.pyplot as plt\n",
    "import seaborn as sns\n",
    "import pickle\n",
    "from sklearn.model_selection import train_test_split\n",
    "from sklearn.svm import SVC\n",
    "from sklearn import metrics\n",
    "from sklearn.metrics import confusion_matrix\n",
    "from sklearn.tree import DecisionTreeClassifier \n",
    "from sklearn.neighbors import KNeighborsClassifier\n",
    "from sklearn.metrics import accuracy_score, classification_report\n",
    "from sklearn.ensemble import RandomForestClassifier\n",
    "from sklearn.ensemble import GradientBoostingClassifier\n",
    "from sklearn.metrics import precision_score, recall_score, f1_score\n",
    "from xgboost import XGBClassifier\n",
    "from sklearn.naive_bayes import BernoulliNB\n",
    "from sklearn.tree import DecisionTreeClassifier\n",
    "from sklearn.preprocessing import StandardScaler\n",
    "import tensorflow as tf\n",
    "from tensorflow.keras.models import Sequential\n",
    "from tensorflow.keras.layers import LSTM, Dense\n",
    "from tensorflow.keras.callbacks import EarlyStopping, ModelCheckpoint\n",
    "from tensorflow.keras.layers import Conv1D, GlobalMaxPooling1D\n",
    "import matplotlib.pyplot as plt"
   ]
  },
  {
   "cell_type": "code",
   "execution_count": 3,
   "metadata": {},
   "outputs": [],
   "source": [
    "data_path = r\"E:\\College\\2nd year\\Winter project\\Thyroid-Performance-Analysis\\Data\""
   ]
  },
  {
   "cell_type": "code",
   "execution_count": 4,
   "metadata": {},
   "outputs": [],
   "source": [
    "# data_path = r\"C:\\Users\\dwija\\OneDrive\\Thyroid-Performance-Analysis\\Data\""
   ]
  },
  {
   "cell_type": "code",
   "execution_count": 5,
   "metadata": {},
   "outputs": [],
   "source": [
    "ann_test = pd.read_csv(data_path+r'\\anntest.CSV')\n",
    "ann_train = pd.read_csv(data_path+r'\\anntrain.CSV')\n",
    "hyper_test = pd.read_csv(data_path+r'\\hyperTest.CSV')\n",
    "hyper_train = pd.read_csv(data_path+r'\\hyperTrain.CSV')\n",
    "hypo_test = pd.read_csv(data_path+r'\\hypoTest.CSV')\n",
    "hypo_train = pd.read_csv(data_path+r'\\hypoTrain.CSV')\n",
    "all_hypo_train = pd.read_csv(data_path+r'\\hypothyroid.csv')\n",
    "euthyroid = pd.read_csv(data_path+r'\\sick-euthyroid.CSV')\n",
    "thyroid0387 = pd.read_csv(data_path+r'\\thyroid0387EDIT.CSV')"
   ]
  },
  {
   "cell_type": "code",
   "execution_count": 6,
   "metadata": {},
   "outputs": [],
   "source": [
    "data = {\n",
    "    'ann test': ann_test,\n",
    "    'ann train': ann_train,\n",
    "    'hyper test': hyper_test,\n",
    "    'hyper train': hyper_train,\n",
    "    'hypo test': hypo_test,\n",
    "    'hypo train': hypo_train,\n",
    "}\n"
   ]
  },
  {
   "cell_type": "code",
   "execution_count": 7,
   "metadata": {},
   "outputs": [],
   "source": [
    "hypo_hyper_data ={    'hyper test': hyper_test,\n",
    "    'hyper train': hyper_train,\n",
    "    'hypo test': hypo_test,\n",
    "    'hypo train': hypo_train,\n",
    "}"
   ]
  },
  {
   "cell_type": "code",
   "execution_count": 8,
   "metadata": {},
   "outputs": [],
   "source": [
    "ann_train = ann_train.drop_duplicates()\n",
    "ann_test = ann_test.drop_duplicates()"
   ]
  },
  {
   "cell_type": "code",
   "execution_count": 9,
   "metadata": {},
   "outputs": [],
   "source": [
    "for df_name, df in hypo_hyper_data.items():\n",
    "        df.drop(\"ID\", axis=1, inplace=True)\n",
    "        df.drop(\"referral_source\", axis=1, inplace=True)"
   ]
  },
  {
   "cell_type": "code",
   "execution_count": 10,
   "metadata": {},
   "outputs": [],
   "source": [
    "hyper_test['Target'] = hyper_test['Target'].replace([\"hyperthyroid\", \"T3_toxic\", \"goitre\", \"secondary_toxic\"], \"hyperthyroid\")\n",
    "hyper_train['Target'] = hyper_train['Target'].replace([\"hyperthyroid\", \"T3_toxic\", \"goitre\", \"secondary_toxic\"], \"hyperthyroid\")\n",
    "hypo_test['Target'] = hypo_test['Target'].replace([\"hypothyroid\", \"primary_hypothyroid\", \"compensated_hypothyroid\", \"secondary_hypothyroid\"],\"hypothyroid\")\n",
    "hypo_train['Target'] = hypo_train['Target'].replace([\"hypothyroid\", \"primary_hypothyroid\", \"compensated_hypothyroid\", \"secondary_hypothyroid\"],\"hypothyroid\")"
   ]
  },
  {
   "cell_type": "code",
   "execution_count": 11,
   "metadata": {},
   "outputs": [],
   "source": [
    "Dataset = pd.concat([hyper_test,hyper_train,hypo_test,hypo_train], ignore_index = True)"
   ]
  },
  {
   "cell_type": "code",
   "execution_count": 12,
   "metadata": {},
   "outputs": [],
   "source": [
    "Dataset['sex'] = Dataset['sex'].replace({'M': 0, 'F': 1})"
   ]
  },
  {
   "cell_type": "code",
   "execution_count": 13,
   "metadata": {},
   "outputs": [],
   "source": [
    "Dataset.replace('?', np.nan, inplace=True)"
   ]
  },
  {
   "cell_type": "code",
   "execution_count": 14,
   "metadata": {},
   "outputs": [],
   "source": [
    "Dataset = Dataset.drop(['TBG', 'TBG_measured','sex'], axis=1)"
   ]
  },
  {
   "cell_type": "code",
   "execution_count": 15,
   "metadata": {},
   "outputs": [
    {
     "data": {
      "text/plain": [
       "age                             2\n",
       "on_thyroxine                    0\n",
       "query_on_thyroxine              0\n",
       "on_antithyroid_medication       0\n",
       "sick                            0\n",
       "pregnant                        0\n",
       "thyroid_surgery                 0\n",
       "I131_treatment                  0\n",
       "query_hypothyroid               0\n",
       "query_hyperthyroid              0\n",
       "lithium                         0\n",
       "goitre                          0\n",
       "tumor                           0\n",
       "hypopituitary                   0\n",
       "psych                           0\n",
       "TSH_measured                    0\n",
       "TSH                           380\n",
       "T3_measured                     0\n",
       "T3                           1180\n",
       "TT4_measured                    0\n",
       "TT4                           104\n",
       "T4U_measured                    0\n",
       "T4U                           416\n",
       "FTI_measured                    0\n",
       "FTI                           412\n",
       "Target                          0\n",
       "dtype: int64"
      ]
     },
     "execution_count": 15,
     "metadata": {},
     "output_type": "execute_result"
    }
   ],
   "source": [
    "Dataset.dropna(axis = 0, thresh = 22, inplace = True)\n",
    "Dataset.isna().sum()"
   ]
  },
  {
   "cell_type": "code",
   "execution_count": 16,
   "metadata": {},
   "outputs": [
    {
     "data": {
      "text/plain": [
       "age                          object\n",
       "on_thyroxine                  int64\n",
       "query_on_thyroxine            int64\n",
       "on_antithyroid_medication     int64\n",
       "sick                          int64\n",
       "pregnant                      int64\n",
       "thyroid_surgery               int64\n",
       "I131_treatment                int64\n",
       "query_hypothyroid             int64\n",
       "query_hyperthyroid            int64\n",
       "lithium                       int64\n",
       "goitre                        int64\n",
       "tumor                         int64\n",
       "hypopituitary                 int64\n",
       "psych                         int64\n",
       "TSH_measured                  int64\n",
       "TSH                          object\n",
       "T3_measured                   int64\n",
       "T3                           object\n",
       "TT4_measured                  int64\n",
       "TT4                          object\n",
       "T4U_measured                  int64\n",
       "T4U                          object\n",
       "FTI_measured                  int64\n",
       "FTI                          object\n",
       "Target                        int64\n",
       "dtype: object"
      ]
     },
     "metadata": {},
     "output_type": "display_data"
    }
   ],
   "source": [
    "Dataset = Dataset.replace({\"t\":1,\"f\":0, \"y\":1, \"n\":0, \"hypothyroid\":1, \"negative\":0,\"hyperthyroid\":2, \"F\":1, \"M\":0})\n",
    "display(Dataset.dtypes)"
   ]
  },
  {
   "cell_type": "code",
   "execution_count": 17,
   "metadata": {},
   "outputs": [
    {
     "data": {
      "text/plain": [
       "age                          float64\n",
       "on_thyroxine                   int64\n",
       "query_on_thyroxine             int64\n",
       "on_antithyroid_medication      int64\n",
       "sick                           int64\n",
       "pregnant                       int64\n",
       "thyroid_surgery                int64\n",
       "I131_treatment                 int64\n",
       "query_hypothyroid              int64\n",
       "query_hyperthyroid             int64\n",
       "lithium                        int64\n",
       "goitre                         int64\n",
       "tumor                          int64\n",
       "hypopituitary                  int64\n",
       "psych                          int64\n",
       "TSH_measured                   int64\n",
       "TSH                          float64\n",
       "T3_measured                    int64\n",
       "T3                           float64\n",
       "TT4_measured                   int64\n",
       "TT4                          float64\n",
       "T4U_measured                   int64\n",
       "T4U                          float64\n",
       "FTI_measured                   int64\n",
       "FTI                          float64\n",
       "Target                         int64\n",
       "dtype: object"
      ]
     },
     "metadata": {},
     "output_type": "display_data"
    }
   ],
   "source": [
    "cols = Dataset.columns[Dataset.dtypes.eq('object')]\n",
    "Dataset[cols] = Dataset[cols].apply(pd.to_numeric, errors='coerce')\n",
    "display(Dataset.dtypes)"
   ]
  },
  {
   "cell_type": "code",
   "execution_count": 18,
   "metadata": {},
   "outputs": [],
   "source": [
    "Dataset = Dataset.interpolate(method = 'spline', order = 3)"
   ]
  },
  {
   "cell_type": "code",
   "execution_count": 19,
   "metadata": {},
   "outputs": [
    {
     "data": {
      "text/plain": [
       "age                          0\n",
       "on_thyroxine                 0\n",
       "query_on_thyroxine           0\n",
       "on_antithyroid_medication    0\n",
       "sick                         0\n",
       "pregnant                     0\n",
       "thyroid_surgery              0\n",
       "I131_treatment               0\n",
       "query_hypothyroid            0\n",
       "query_hyperthyroid           0\n",
       "lithium                      0\n",
       "goitre                       0\n",
       "tumor                        0\n",
       "hypopituitary                0\n",
       "psych                        0\n",
       "TSH_measured                 0\n",
       "TSH                          0\n",
       "T3_measured                  0\n",
       "T3                           0\n",
       "TT4_measured                 0\n",
       "TT4                          0\n",
       "T4U_measured                 0\n",
       "T4U                          0\n",
       "FTI_measured                 0\n",
       "FTI                          0\n",
       "Target                       0\n",
       "dtype: int64"
      ]
     },
     "execution_count": 19,
     "metadata": {},
     "output_type": "execute_result"
    }
   ],
   "source": [
    "Dataset.isna().sum()"
   ]
  },
  {
   "cell_type": "code",
   "execution_count": 20,
   "metadata": {},
   "outputs": [],
   "source": [
    "Dataset = Dataset.dropna()"
   ]
  },
  {
   "cell_type": "code",
   "execution_count": 21,
   "metadata": {},
   "outputs": [],
   "source": [
    "X = Dataset.drop('Target', axis=1)  \n",
    "y = Dataset['Target']\n",
    "X_train, X_test, y_train, y_test = train_test_split(X, y, test_size=0.2, random_state=42)"
   ]
  },
  {
   "cell_type": "code",
   "execution_count": 22,
   "metadata": {},
   "outputs": [],
   "source": [
    "def results(y_test,y_pred):\n",
    "    precision = precision_score(y_test, y_pred, average='weighted',zero_division=0)\n",
    "    recall = recall_score(y_test, y_pred, average='weighted')\n",
    "    f1 = f1_score(y_test, y_pred, average='weighted')\n",
    "    accuracy = accuracy_score(y_test, y_pred)\n",
    "\n",
    "    print(f\"Precision: {precision * 100:.2f}%\")\n",
    "    print(f\"Recall: {recall * 100:.2f}%\")\n",
    "    print(f\"F1-Score: {f1 * 100:.2f}%\")\n",
    "    print(f\"Accuracy: {accuracy * 100:.2f}%\")"
   ]
  },
  {
   "cell_type": "markdown",
   "metadata": {},
   "source": [
    "**MODEL TRAINING RESULTS**"
   ]
  },
  {
   "cell_type": "code",
   "execution_count": 26,
   "metadata": {},
   "outputs": [
    {
     "name": "stdout",
     "output_type": "stream",
     "text": [
      "Precision: 90.67%\n",
      "Recall: 90.47%\n",
      "F1-Score: 90.57%\n",
      "Accuracy: 90.47%\n"
     ]
    }
   ],
   "source": [
    "rf_model = RandomForestClassifier(n_estimators=100, random_state=42)\n",
    "rf_model.fit(X_train, y_train)\n",
    "y_pred_rf = rf_model.predict(X_test)\n",
    "results(y_test,y_pred_rf)"
   ]
  },
  {
   "cell_type": "code",
   "execution_count": 27,
   "metadata": {},
   "outputs": [
    {
     "name": "stdout",
     "output_type": "stream",
     "text": [
      "Precision: 90.10%\n",
      "Recall: 94.92%\n",
      "F1-Score: 92.45%\n",
      "Accuracy: 94.92%\n"
     ]
    }
   ],
   "source": [
    "svm_model = SVC(kernel='linear')  # You can choose different kernels like 'linear', 'rbf', etc.\n",
    "svm_model.fit(X_train, y_train)\n",
    "y_pred_svm = svm_model.predict(X_test)\n",
    "results(y_test,y_pred_svm)"
   ]
  },
  {
   "cell_type": "code",
   "execution_count": 28,
   "metadata": {},
   "outputs": [
    {
     "name": "stderr",
     "output_type": "stream",
     "text": [
      "c:\\Users\\dwija\\anaconda3\\Lib\\site-packages\\sklearn\\base.py:465: UserWarning: X does not have valid feature names, but KNeighborsClassifier was fitted with feature names\n",
      "  warnings.warn(\n"
     ]
    },
    {
     "name": "stdout",
     "output_type": "stream",
     "text": [
      "Precision: 90.93%\n",
      "Recall: 93.74%\n",
      "F1-Score: 92.17%\n",
      "Accuracy: 93.74%\n"
     ]
    }
   ],
   "source": [
    "knn_model = KNeighborsClassifier(n_neighbors=5)\n",
    "knn_model.fit(X_train, y_train)\n",
    "X_test_array = X_test.values  \n",
    "y_pred_knn = knn_model.predict(X_test_array) \n",
    "results(y_test, y_pred_knn)\n"
   ]
  },
  {
   "cell_type": "code",
   "execution_count": 29,
   "metadata": {},
   "outputs": [
    {
     "name": "stdout",
     "output_type": "stream",
     "text": [
      "Precision: 95.95%\n",
      "Recall: 89.01%\n",
      "F1-Score: 91.47%\n",
      "Accuracy: 89.01%\n"
     ]
    }
   ],
   "source": [
    "gb_model = GradientBoostingClassifier(n_estimators=100, learning_rate=1.0, max_depth=1, random_state=42)\n",
    "gb_model.fit(X_train, y_train)\n",
    "y_pred_gb = gb_model.predict(X_test)\n",
    "results(y_test, y_pred_gb)"
   ]
  },
  {
   "cell_type": "code",
   "execution_count": 33,
   "metadata": {},
   "outputs": [
    {
     "name": "stdout",
     "output_type": "stream",
     "text": [
      "Precision: 91.99%\n",
      "Recall: 91.66%\n",
      "F1-Score: 91.82%\n",
      "Accuracy: 91.66%\n"
     ]
    }
   ],
   "source": [
    "xgb_model = XGBClassifier(n_estimators=100, random_state=42)  \n",
    "xgb_model.fit(X_train, y_train)\n",
    "y_pred_xgb = xgb_model.predict(X_test)\n",
    "\n",
    "results(y_test, y_pred_xgb)"
   ]
  },
  {
   "cell_type": "code",
   "execution_count": 34,
   "metadata": {},
   "outputs": [
    {
     "name": "stdout",
     "output_type": "stream",
     "text": [
      "Precision: 93.90%\n",
      "Recall: 94.58%\n",
      "F1-Score: 92.41%\n",
      "Accuracy: 94.58%\n"
     ]
    }
   ],
   "source": [
    "nb_model = BernoulliNB()\n",
    "nb_model.fit(X_train, y_train)\n",
    "y_pred_gnb = nb_model.predict(X_test)\n",
    "results(y_test, y_pred_gnb)"
   ]
  },
  {
   "cell_type": "code",
   "execution_count": 35,
   "metadata": {},
   "outputs": [
    {
     "name": "stdout",
     "output_type": "stream",
     "text": [
      "Precision: 91.21%\n",
      "Recall: 90.89%\n",
      "F1-Score: 91.05%\n",
      "Accuracy: 90.89%\n"
     ]
    }
   ],
   "source": [
    "dt_model = DecisionTreeClassifier(random_state=42)\n",
    "dt_model.fit(X_train, y_train)\n",
    "y_pred_dt = dt_model.predict(X_test)\n",
    "results(y_test, y_pred_dt)"
   ]
  },
  {
   "cell_type": "code",
   "execution_count": 36,
   "metadata": {},
   "outputs": [],
   "source": [
    "models_dict = {\n",
    "    'RandomForest': rf_model,\n",
    "    'SVC': svm_model,\n",
    "    'KNeighbors': knn_model,\n",
    "    'GradientBoosting': gb_model,\n",
    "    'XGBoost': xgb_model,\n",
    "    'BernoulliNB': nb_model,\n",
    "    'DecisionTree': dt_model,\n",
    "}"
   ]
  },
  {
   "cell_type": "markdown",
   "metadata": {},
   "source": [
    "**SAVING THE MODEL**"
   ]
  },
  {
   "cell_type": "code",
   "execution_count": 39,
   "metadata": {},
   "outputs": [
    {
     "name": "stdout",
     "output_type": "stream",
     "text": [
      "Models saved to C:\\Users\\dwija\\OneDrive\\Thyroid-Performance-Analysis\\SAVED_MODEL/models.pkl\n"
     ]
    }
   ],
   "source": [
    "folder_path = r'C:\\Users\\dwija\\OneDrive\\Thyroid-Performance-Analysis\\SAVED_MODEL'\n",
    "file_name = 'models.pkl'\n",
    "full_path = f'{folder_path}/{file_name}'\n",
    "\n",
    "# Save the dictionary of models using pickle\n",
    "with open(full_path, 'wb') as file:\n",
    "    pickle.dump(models_dict, file)\n",
    "\n",
    "print(f'Models saved to {full_path}')"
   ]
  },
  {
   "cell_type": "markdown",
   "metadata": {},
   "source": [
    "**SCALING AND RESHAPING X_TRAIN AND X_TEST**"
   ]
  },
  {
   "cell_type": "code",
   "execution_count": 24,
   "metadata": {},
   "outputs": [],
   "source": [
    "scaler = StandardScaler()\n",
    "X_train_scaled = scaler.fit_transform(X_train)\n",
    "X_test_scaled = scaler.transform(X_test)"
   ]
  },
  {
   "cell_type": "code",
   "execution_count": 25,
   "metadata": {},
   "outputs": [],
   "source": [
    "X_train_reshaped = np.reshape(X_train_scaled, (X_train_scaled.shape[0], 1, X_train_scaled.shape[1]))\n",
    "X_test_reshaped = np.reshape(X_test_scaled, (X_test_scaled.shape[0], 1, X_test_scaled.shape[1]))"
   ]
  },
  {
   "cell_type": "markdown",
   "metadata": {},
   "source": [
    "**LSTM MODEL**"
   ]
  },
  {
   "cell_type": "code",
   "execution_count": 216,
   "metadata": {},
   "outputs": [],
   "source": [
    "LSTM_mod = Sequential()\n",
    "LSTM_mod.add(LSTM(units=50, input_shape=(X_train_reshaped.shape[1], X_train_reshaped.shape[2])))\n",
    "LSTM_mod.add(Dense(units=1, activation='sigmoid'))"
   ]
  },
  {
   "cell_type": "code",
   "execution_count": 217,
   "metadata": {},
   "outputs": [],
   "source": [
    "LSTM_mod.compile(optimizer=tf.keras.optimizers.Adam(learning_rate=0.0001), loss='binary_crossentropy', metrics=['accuracy'])"
   ]
  },
  {
   "cell_type": "code",
   "execution_count": 340,
   "metadata": {},
   "outputs": [
    {
     "name": "stdout",
     "output_type": "stream",
     "text": [
      "Model: \"sequential_13\"\n",
      "_________________________________________________________________\n",
      " Layer (type)                Output Shape              Param #   \n",
      "=================================================================\n",
      " lstm_20 (LSTM)              (None, 50)                15200     \n",
      "                                                                 \n",
      " dense_12 (Dense)            (None, 1)                 51        \n",
      "                                                                 \n",
      "=================================================================\n",
      "Total params: 15251 (59.57 KB)\n",
      "Trainable params: 15251 (59.57 KB)\n",
      "Non-trainable params: 0 (0.00 Byte)\n",
      "_________________________________________________________________\n"
     ]
    }
   ],
   "source": [
    "LSTM_mod.summary()"
   ]
  },
  {
   "cell_type": "code",
   "execution_count": 218,
   "metadata": {},
   "outputs": [],
   "source": [
    "early_stopping = EarlyStopping(monitor='val_loss', patience=5, restore_best_weights=True)\n",
    "model_checkpoint = ModelCheckpoint(r'E:\\College\\2nd year\\Winter project\\Thyroid-Performance-Analysis\\SAVED_MODEL\\LSTM_model.h5', save_best_only=True)"
   ]
  },
  {
   "cell_type": "code",
   "execution_count": 279,
   "metadata": {},
   "outputs": [
    {
     "name": "stdout",
     "output_type": "stream",
     "text": [
      "Epoch 1/30\n",
      "180/180 [==============================] - 1s 5ms/step - loss: 0.1830 - accuracy: 0.9360 - val_loss: 0.1668 - val_accuracy: 0.9438\n",
      "Epoch 2/30\n",
      "180/180 [==============================] - 0s 2ms/step - loss: 0.1818 - accuracy: 0.9358 - val_loss: 0.1661 - val_accuracy: 0.9438\n",
      "Epoch 3/30\n",
      "180/180 [==============================] - 0s 2ms/step - loss: 0.1807 - accuracy: 0.9353 - val_loss: 0.1656 - val_accuracy: 0.9438\n",
      "Epoch 4/30\n",
      "180/180 [==============================] - 1s 3ms/step - loss: 0.1795 - accuracy: 0.9348 - val_loss: 0.1650 - val_accuracy: 0.9438\n",
      "Epoch 5/30\n",
      "180/180 [==============================] - 0s 3ms/step - loss: 0.1784 - accuracy: 0.9341 - val_loss: 0.1644 - val_accuracy: 0.9438\n",
      "Epoch 6/30\n",
      "180/180 [==============================] - 0s 3ms/step - loss: 0.1773 - accuracy: 0.9335 - val_loss: 0.1641 - val_accuracy: 0.9438\n",
      "Epoch 7/30\n",
      "180/180 [==============================] - 0s 3ms/step - loss: 0.1763 - accuracy: 0.9335 - val_loss: 0.1637 - val_accuracy: 0.9438\n",
      "Epoch 8/30\n",
      "180/180 [==============================] - 0s 3ms/step - loss: 0.1754 - accuracy: 0.9332 - val_loss: 0.1634 - val_accuracy: 0.9438\n",
      "Epoch 9/30\n",
      "180/180 [==============================] - 0s 3ms/step - loss: 0.1744 - accuracy: 0.9330 - val_loss: 0.1631 - val_accuracy: 0.9431\n",
      "Epoch 10/30\n",
      "180/180 [==============================] - 0s 3ms/step - loss: 0.1734 - accuracy: 0.9330 - val_loss: 0.1628 - val_accuracy: 0.9431\n",
      "Epoch 11/30\n",
      "180/180 [==============================] - 1s 3ms/step - loss: 0.1726 - accuracy: 0.9328 - val_loss: 0.1625 - val_accuracy: 0.9431\n",
      "Epoch 12/30\n",
      "180/180 [==============================] - 0s 3ms/step - loss: 0.1717 - accuracy: 0.9332 - val_loss: 0.1623 - val_accuracy: 0.9431\n",
      "Epoch 13/30\n",
      "180/180 [==============================] - 0s 3ms/step - loss: 0.1709 - accuracy: 0.9325 - val_loss: 0.1621 - val_accuracy: 0.9438\n",
      "Epoch 14/30\n",
      "180/180 [==============================] - 0s 3ms/step - loss: 0.1700 - accuracy: 0.9323 - val_loss: 0.1621 - val_accuracy: 0.9438\n",
      "Epoch 15/30\n",
      "180/180 [==============================] - 1s 3ms/step - loss: 0.1691 - accuracy: 0.9320 - val_loss: 0.1620 - val_accuracy: 0.9438\n",
      "Epoch 16/30\n",
      "180/180 [==============================] - 0s 2ms/step - loss: 0.1684 - accuracy: 0.9320 - val_loss: 0.1619 - val_accuracy: 0.9438\n",
      "Epoch 17/30\n",
      "180/180 [==============================] - 0s 2ms/step - loss: 0.1676 - accuracy: 0.9318 - val_loss: 0.1619 - val_accuracy: 0.9438\n",
      "Epoch 18/30\n",
      "180/180 [==============================] - 1s 3ms/step - loss: 0.1668 - accuracy: 0.9318 - val_loss: 0.1617 - val_accuracy: 0.9431\n",
      "Epoch 19/30\n",
      "180/180 [==============================] - 1s 3ms/step - loss: 0.1660 - accuracy: 0.9318 - val_loss: 0.1617 - val_accuracy: 0.9431\n",
      "Epoch 20/30\n",
      "180/180 [==============================] - 0s 3ms/step - loss: 0.1653 - accuracy: 0.9320 - val_loss: 0.1617 - val_accuracy: 0.9431\n",
      "Epoch 21/30\n",
      "180/180 [==============================] - 0s 2ms/step - loss: 0.1646 - accuracy: 0.9322 - val_loss: 0.1617 - val_accuracy: 0.9424\n",
      "Epoch 22/30\n",
      "180/180 [==============================] - 1s 3ms/step - loss: 0.1640 - accuracy: 0.9318 - val_loss: 0.1617 - val_accuracy: 0.9424\n",
      "Epoch 23/30\n",
      "180/180 [==============================] - 1s 3ms/step - loss: 0.1632 - accuracy: 0.9320 - val_loss: 0.1618 - val_accuracy: 0.9424\n",
      "Epoch 24/30\n",
      "180/180 [==============================] - 1s 3ms/step - loss: 0.1625 - accuracy: 0.9318 - val_loss: 0.1618 - val_accuracy: 0.9424\n"
     ]
    }
   ],
   "source": [
    "lstm = LSTM_mod.fit(X_train_reshaped, y_train, epochs=30, batch_size=32,\n",
    "          validation_data=(X_test_reshaped, y_test),\n",
    "          callbacks=[early_stopping, model_checkpoint]\n",
    "          )"
   ]
  },
  {
   "cell_type": "markdown",
   "metadata": {},
   "source": [
    "**PLOTTING THE TRAINING AND VALIDATION LOSS**"
   ]
  },
  {
   "cell_type": "code",
   "execution_count": 220,
   "metadata": {},
   "outputs": [
    {
     "data": {
      "image/png": "[encoded data removed]",
      "text/plain": [
       "<Figure size 2000x600 with 2 Axes>"
      ]
     },
     "metadata": {},
     "output_type": "display_data"
    }
   ],
   "source": [
    "fig, axs = plt.subplots(1, 2, figsize=(20, 6))\n",
    "\n",
    "axs[0].plot(lstm.history['loss'], label='train loss')\n",
    "axs[0].plot(lstm.history['val_loss'], label='val loss')\n",
    "axs[0].set_title(\"Training Loss and Validation Loss\")\n",
    "axs[0].set_xlabel('Epoch')\n",
    "axs[0].set_ylabel('Loss')\n",
    "axs[0].legend()\n",
    "\n",
    "axs[1].plot(lstm.history['accuracy'], label='train acc')\n",
    "axs[1].plot(lstm.history['val_accuracy'], label='val acc')\n",
    "axs[1].set_title('Training Accuracy and Validation Accuracy')\n",
    "axs[1].set_xlabel('Epoch')\n",
    "axs[1].set_ylabel('Accuracy')\n",
    "axs[1].legend()\n",
    "\n",
    "plt.show()"
   ]
  },
  {
   "cell_type": "code",
   "execution_count": 283,
   "metadata": {},
   "outputs": [
    {
     "name": "stdout",
     "output_type": "stream",
     "text": [
      "45/45 [==============================] - 0s 2ms/step\n",
      "Precision: 91.61%\n",
      "Recall: 94.37%\n",
      "F1-Score: 92.90%\n",
      "Accuracy: 94.37%\n"
     ]
    }
   ],
   "source": [
    "y_pred = lstm.predict(X_test_reshaped)\n",
    "y_pred_binary = (y_pred > 0.5).astype(int)\n",
    "results(y_test,y_pred_binary)"
   ]
  },
  {
   "cell_type": "markdown",
   "metadata": {},
   "source": [
    "**ANN MODEL**"
   ]
  },
  {
   "cell_type": "code",
   "execution_count": 63,
   "metadata": {},
   "outputs": [],
   "source": [
    "ann_model = Sequential()\n",
    "ann_model.add(Conv1D(filters=64, kernel_size=3, activation='relu', input_shape=(X_train_scaled.shape[1], 1)))\n",
    "ann_model.add(GlobalMaxPooling1D())\n",
    "ann_model.add(Dense(units=64, activation='relu'))\n",
    "ann_model.add(Dense(units=1, activation='sigmoid'))\n"
   ]
  },
  {
   "cell_type": "code",
   "execution_count": 64,
   "metadata": {},
   "outputs": [],
   "source": [
    "ann_model.compile(optimizer='adam', loss='binary_crossentropy', metrics=['accuracy'])"
   ]
  },
  {
   "cell_type": "code",
   "execution_count": 65,
   "metadata": {},
   "outputs": [
    {
     "name": "stdout",
     "output_type": "stream",
     "text": [
      "Model: \"sequential_4\"\n",
      "_________________________________________________________________\n",
      " Layer (type)                Output Shape              Param #   \n",
      "=================================================================\n",
      " conv1d_3 (Conv1D)           (None, 23, 64)            256       \n",
      "                                                                 \n",
      " global_max_pooling1d_3 (Gl  (None, 64)                0         \n",
      " obalMaxPooling1D)                                               \n",
      "                                                                 \n",
      " dense_6 (Dense)             (None, 64)                4160      \n",
      "                                                                 \n",
      " dense_7 (Dense)             (None, 1)                 65        \n",
      "                                                                 \n",
      "=================================================================\n",
      "Total params: 4481 (17.50 KB)\n",
      "Trainable params: 4481 (17.50 KB)\n",
      "Non-trainable params: 0 (0.00 Byte)\n",
      "_________________________________________________________________\n"
     ]
    }
   ],
   "source": [
    "ann_model.summary()"
   ]
  },
  {
   "cell_type": "code",
   "execution_count": 66,
   "metadata": {},
   "outputs": [],
   "source": [
    "early_stopping = EarlyStopping(monitor='val_loss', patience=5, restore_best_weights=True)\n",
    "model_checkpoint = ModelCheckpoint(r'E:\\College\\2nd year\\Winter project\\Thyroid-Performance-Analysis\\SAVED_MODEL\\ANN_model.h5', save_best_only=True)"
   ]
  },
  {
   "cell_type": "code",
   "execution_count": 67,
   "metadata": {},
   "outputs": [
    {
     "name": "stdout",
     "output_type": "stream",
     "text": [
      "Epoch 1/50\n",
      "180/180 [==============================] - 1s 5ms/step - loss: 0.3228 - accuracy: 0.9443 - val_loss: 0.2531 - val_accuracy: 0.9492\n",
      "Epoch 2/50\n",
      "180/180 [==============================] - 1s 3ms/step - loss: 0.2520 - accuracy: 0.9443 - val_loss: 0.2257 - val_accuracy: 0.9492\n",
      "Epoch 3/50\n",
      "180/180 [==============================] - 0s 3ms/step - loss: 0.2448 - accuracy: 0.9442 - val_loss: 0.2218 - val_accuracy: 0.9492\n",
      "Epoch 4/50\n",
      "180/180 [==============================] - 1s 4ms/step - loss: 0.2413 - accuracy: 0.9440 - val_loss: 0.2158 - val_accuracy: 0.9492\n",
      "Epoch 5/50\n",
      "180/180 [==============================] - 0s 3ms/step - loss: 0.2380 - accuracy: 0.9443 - val_loss: 0.2168 - val_accuracy: 0.9492\n",
      "Epoch 6/50\n",
      "180/180 [==============================] - 1s 3ms/step - loss: 0.2361 - accuracy: 0.9443 - val_loss: 0.2149 - val_accuracy: 0.9492\n",
      "Epoch 7/50\n",
      "180/180 [==============================] - 0s 3ms/step - loss: 0.2350 - accuracy: 0.9443 - val_loss: 0.2186 - val_accuracy: 0.9492\n",
      "Epoch 8/50\n",
      "180/180 [==============================] - 1s 3ms/step - loss: 0.2350 - accuracy: 0.9442 - val_loss: 0.2097 - val_accuracy: 0.9492\n",
      "Epoch 9/50\n",
      "180/180 [==============================] - 1s 3ms/step - loss: 0.2328 - accuracy: 0.9443 - val_loss: 0.2100 - val_accuracy: 0.9492\n",
      "Epoch 10/50\n",
      "180/180 [==============================] - 1s 3ms/step - loss: 0.2369 - accuracy: 0.9443 - val_loss: 0.2104 - val_accuracy: 0.9492\n",
      "Epoch 11/50\n",
      "180/180 [==============================] - 1s 3ms/step - loss: 0.2302 - accuracy: 0.9442 - val_loss: 0.2080 - val_accuracy: 0.9492\n",
      "Epoch 12/50\n",
      "180/180 [==============================] - 0s 3ms/step - loss: 0.2304 - accuracy: 0.9442 - val_loss: 0.2070 - val_accuracy: 0.9492\n",
      "Epoch 13/50\n",
      "180/180 [==============================] - 0s 3ms/step - loss: 0.2298 - accuracy: 0.9442 - val_loss: 0.2061 - val_accuracy: 0.9492\n",
      "Epoch 14/50\n",
      "180/180 [==============================] - 0s 3ms/step - loss: 0.2299 - accuracy: 0.9442 - val_loss: 0.2056 - val_accuracy: 0.9492\n",
      "Epoch 15/50\n",
      "180/180 [==============================] - 1s 3ms/step - loss: 0.2267 - accuracy: 0.9443 - val_loss: 0.2055 - val_accuracy: 0.9492\n",
      "Epoch 16/50\n",
      "180/180 [==============================] - 1s 3ms/step - loss: 0.2280 - accuracy: 0.9442 - val_loss: 0.2164 - val_accuracy: 0.9492\n",
      "Epoch 17/50\n",
      "180/180 [==============================] - 1s 3ms/step - loss: 0.2321 - accuracy: 0.9442 - val_loss: 0.2079 - val_accuracy: 0.9492\n",
      "Epoch 18/50\n",
      "180/180 [==============================] - 0s 3ms/step - loss: 0.2267 - accuracy: 0.9442 - val_loss: 0.2082 - val_accuracy: 0.9492\n",
      "Epoch 19/50\n",
      "180/180 [==============================] - 1s 3ms/step - loss: 0.2291 - accuracy: 0.9443 - val_loss: 0.2185 - val_accuracy: 0.9492\n",
      "Epoch 20/50\n",
      "180/180 [==============================] - 0s 3ms/step - loss: 0.2293 - accuracy: 0.9443 - val_loss: 0.2035 - val_accuracy: 0.9492\n",
      "Epoch 21/50\n",
      "180/180 [==============================] - 0s 3ms/step - loss: 0.2273 - accuracy: 0.9442 - val_loss: 0.2035 - val_accuracy: 0.9492\n",
      "Epoch 22/50\n",
      "180/180 [==============================] - 1s 3ms/step - loss: 0.2251 - accuracy: 0.9442 - val_loss: 0.2027 - val_accuracy: 0.9492\n",
      "Epoch 23/50\n",
      "180/180 [==============================] - 0s 2ms/step - loss: 0.2219 - accuracy: 0.9442 - val_loss: 0.2179 - val_accuracy: 0.9492\n",
      "Epoch 24/50\n",
      "180/180 [==============================] - 0s 3ms/step - loss: 0.2236 - accuracy: 0.9443 - val_loss: 0.2037 - val_accuracy: 0.9492\n",
      "Epoch 25/50\n",
      "180/180 [==============================] - 0s 3ms/step - loss: 0.2250 - accuracy: 0.9438 - val_loss: 0.2107 - val_accuracy: 0.9492\n",
      "Epoch 26/50\n",
      "180/180 [==============================] - 0s 3ms/step - loss: 0.2227 - accuracy: 0.9442 - val_loss: 0.2000 - val_accuracy: 0.9492\n",
      "Epoch 27/50\n",
      "180/180 [==============================] - 0s 3ms/step - loss: 0.2225 - accuracy: 0.9442 - val_loss: 0.1992 - val_accuracy: 0.9492\n",
      "Epoch 28/50\n",
      "180/180 [==============================] - 1s 3ms/step - loss: 0.2235 - accuracy: 0.9438 - val_loss: 0.2050 - val_accuracy: 0.9492\n",
      "Epoch 29/50\n",
      "180/180 [==============================] - 1s 3ms/step - loss: 0.2222 - accuracy: 0.9442 - val_loss: 0.2031 - val_accuracy: 0.9492\n",
      "Epoch 30/50\n",
      "180/180 [==============================] - 1s 3ms/step - loss: 0.2201 - accuracy: 0.9442 - val_loss: 0.2077 - val_accuracy: 0.9492\n",
      "Epoch 31/50\n",
      "180/180 [==============================] - 1s 4ms/step - loss: 0.2212 - accuracy: 0.9440 - val_loss: 0.2009 - val_accuracy: 0.9492\n",
      "Epoch 32/50\n",
      "180/180 [==============================] - 1s 3ms/step - loss: 0.2224 - accuracy: 0.9438 - val_loss: 0.2112 - val_accuracy: 0.9492\n"
     ]
    }
   ],
   "source": [
    "ann = ann_model.fit(X_train_scaled, y_train, epochs=50, batch_size=32,\n",
    "          validation_data=(X_test_scaled, y_test),\n",
    "          callbacks=[early_stopping, model_checkpoint])"
   ]
  },
  {
   "cell_type": "markdown",
   "metadata": {},
   "source": [
    "**PLOTTING THE TRAINING AND VALIDATION LOSS**"
   ]
  },
  {
   "cell_type": "code",
   "execution_count": 68,
   "metadata": {},
   "outputs": [
    {
     "data": {
      "image/png": "[encoded data removed]",
      "text/plain": [
       "<Figure size 2000x600 with 2 Axes>"
      ]
     },
     "metadata": {},
     "output_type": "display_data"
    }
   ],
   "source": [
    "fig, axs = plt.subplots(1, 2, figsize=(20, 6))\n",
    "\n",
    "axs[0].plot(ann.history['loss'], label='train loss')\n",
    "axs[0].plot(ann.history['val_loss'], label='val loss')\n",
    "axs[0].set_title(\"Training Loss and Validation Loss\")\n",
    "axs[0].set_xlabel('Epoch')\n",
    "axs[0].set_ylabel('Loss')\n",
    "axs[0].legend()\n",
    "\n",
    "axs[1].plot(ann.history['accuracy'], label='train acc')\n",
    "axs[1].plot(ann.history['val_accuracy'], label='val acc')\n",
    "axs[1].set_title('Training Accuracy and Validation Accuracy')\n",
    "axs[1].set_xlabel('Epoch')\n",
    "axs[1].set_ylabel('Accuracy')\n",
    "axs[1].legend()\n",
    "\n",
    "plt.show()"
   ]
  },
  {
   "cell_type": "code",
   "execution_count": 69,
   "metadata": {},
   "outputs": [
    {
     "name": "stdout",
     "output_type": "stream",
     "text": [
      " 1/45 [..............................] - ETA: 2s"
     ]
    },
    {
     "name": "stdout",
     "output_type": "stream",
     "text": [
      "45/45 [==============================] - 0s 1ms/step\n",
      "Precision: 90.17%\n",
      "Recall: 94.92%\n",
      "F1-Score: 92.48%\n",
      "Accuracy: 94.92%\n"
     ]
    }
   ],
   "source": [
    "y_pred = ann_model.predict(X_test_scaled)\n",
    "y_pred_classes = (y_pred > 0.5).astype(int)\n",
    "y_test = np.array(y_test)\n",
    "results(y_test,y_pred_classes)"
   ]
  }
 ],
 "metadata": {
  "kernelspec": {
   "display_name": "Python 3",
   "language": "python",
   "name": "python3"
  },
  "language_info": {
   "codemirror_mode": {
    "name": "ipython",
    "version": 3
   },
   "file_extension": ".py",
   "mimetype": "text/x-python",
   "name": "python",
   "nbconvert_exporter": "python",
   "pygments_lexer": "ipython3",
   "version": "3.11.5"
  }
 },
 "nbformat": 4,
 "nbformat_minor": 2
}
