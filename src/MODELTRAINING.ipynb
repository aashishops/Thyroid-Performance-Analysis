{
 "cells": [
  {
   "cell_type": "code",
   "execution_count": 5,
   "metadata": {},
   "outputs": [],
   "source": [
    "import pandas as pd\n",
    "import numpy as np\n",
    "import matplotlib.pyplot as plt\n",
    "import seaborn as sns\n",
    "import pickle\n",
    "from sklearn.model_selection import train_test_split\n",
    "from sklearn.svm import SVC\n",
    "from sklearn import metrics\n",
    "from sklearn.metrics import confusion_matrix\n",
    "from sklearn.tree import DecisionTreeClassifier \n",
    "from sklearn.neighbors import KNeighborsClassifier\n",
    "from sklearn.metrics import accuracy_score, classification_report\n",
    "from sklearn.ensemble import RandomForestClassifier\n",
    "from sklearn.ensemble import GradientBoostingClassifier\n",
    "from sklearn.metrics import precision_score, recall_score, f1_score\n",
    "from xgboost import XGBClassifier\n",
    "from sklearn.naive_bayes import BernoulliNB\n",
    "from sklearn.tree import DecisionTreeClassifier\n"
   ]
  },
  {
   "cell_type": "code",
   "execution_count": 6,
   "metadata": {},
   "outputs": [],
   "source": [
    "#data_path = r\"E:\\2nd year\\Winter project\\Thyroid Performance Analysis\\Data\""
   ]
  },
  {
   "cell_type": "code",
   "execution_count": 7,
   "metadata": {},
   "outputs": [],
   "source": [
    " data_path = r\"C:\\Users\\dwija\\OneDrive\\Thyroid-Performance-Analysis\\Data\""
   ]
  },
  {
   "cell_type": "code",
   "execution_count": 8,
   "metadata": {},
   "outputs": [],
   "source": [
    "ann_test = pd.read_csv(data_path+r'\\anntest.CSV')\n",
    "ann_train = pd.read_csv(data_path+r'\\anntrain.CSV')\n",
    "hyper_test = pd.read_csv(data_path+r'\\hyperTest.CSV')\n",
    "hyper_train = pd.read_csv(data_path+r'\\hyperTrain.CSV')\n",
    "hypo_test = pd.read_csv(data_path+r'\\hypoTest.CSV')\n",
    "hypo_train = pd.read_csv(data_path+r'\\hypoTrain.CSV')\n",
    "all_hypo_train = pd.read_csv(data_path+r'\\hypothyroid.csv')\n",
    "euthyroid = pd.read_csv(data_path+r'\\sick-euthyroid.CSV')\n",
    "thyroid0387 = pd.read_csv(data_path+r'\\thyroid0387EDIT.CSV')"
   ]
  },
  {
   "cell_type": "code",
   "execution_count": 9,
   "metadata": {},
   "outputs": [],
   "source": [
    "data = {\n",
    "    'ann test': ann_test,\n",
    "    'ann train': ann_train,\n",
    "    'hyper test': hyper_test,\n",
    "    'hyper train': hyper_train,\n",
    "    'hypo test': hypo_test,\n",
    "    'hypo train': hypo_train,\n",
    "}\n"
   ]
  },
  {
   "cell_type": "code",
   "execution_count": 10,
   "metadata": {},
   "outputs": [],
   "source": [
    "hypo_hyper_data ={    'hyper test': hyper_test,\n",
    "    'hyper train': hyper_train,\n",
    "    'hypo test': hypo_test,\n",
    "    'hypo train': hypo_train,\n",
    "}"
   ]
  },
  {
   "cell_type": "code",
   "execution_count": 11,
   "metadata": {},
   "outputs": [],
   "source": [
    "ann_train = ann_train.drop_duplicates()\n",
    "ann_test = ann_test.drop_duplicates()"
   ]
  },
  {
   "cell_type": "code",
   "execution_count": 12,
   "metadata": {},
   "outputs": [],
   "source": [
    "for df_name, df in hypo_hyper_data.items():\n",
    "        df.drop(\"ID\", axis=1, inplace=True)\n",
    "        df.drop(\"referral_source\", axis=1, inplace=True)"
   ]
  },
  {
   "cell_type": "code",
   "execution_count": 13,
   "metadata": {},
   "outputs": [],
   "source": [
    "hyper_test['Target'] = hyper_test['Target'].replace([\"hyperthyroid\", \"T3_toxic\", \"goitre\", \"secondary_toxic\"], \"hyperthyroid\")\n",
    "hyper_train['Target'] = hyper_train['Target'].replace([\"hyperthyroid\", \"T3_toxic\", \"goitre\", \"secondary_toxic\"], \"hyperthyroid\")\n",
    "hypo_test['Target'] = hypo_test['Target'].replace([\"hypothyroid\", \"primary_hypothyroid\", \"compensated_hypothyroid\", \"secondary_hypothyroid\"],\"hypothyroid\")\n",
    "hypo_train['Target'] = hypo_train['Target'].replace([\"hypothyroid\", \"primary_hypothyroid\", \"compensated_hypothyroid\", \"secondary_hypothyroid\"],\"hypothyroid\")"
   ]
  },
  {
   "cell_type": "code",
   "execution_count": 14,
   "metadata": {},
   "outputs": [],
   "source": [
    "Dataset = pd.concat([hyper_test,hyper_train,hypo_test,hypo_train], ignore_index = True)"
   ]
  },
  {
   "cell_type": "code",
   "execution_count": 15,
   "metadata": {},
   "outputs": [],
   "source": [
    "Dataset['sex'] = Dataset['sex'].replace({'M': 0, 'F': 1})"
   ]
  },
  {
   "cell_type": "code",
   "execution_count": 16,
   "metadata": {},
   "outputs": [],
   "source": [
    "Dataset.replace('?', np.nan, inplace=True)"
   ]
  },
  {
   "cell_type": "code",
   "execution_count": 17,
   "metadata": {},
   "outputs": [],
   "source": [
    "Dataset = Dataset.drop(['TBG', 'TBG_measured','sex'], axis=1)"
   ]
  },
  {
   "cell_type": "code",
   "execution_count": 18,
   "metadata": {},
   "outputs": [
    {
     "data": {
      "text/plain": [
       "age                             2\n",
       "on_thyroxine                    0\n",
       "query_on_thyroxine              0\n",
       "on_antithyroid_medication       0\n",
       "sick                            0\n",
       "pregnant                        0\n",
       "thyroid_surgery                 0\n",
       "I131_treatment                  0\n",
       "query_hypothyroid               0\n",
       "query_hyperthyroid              0\n",
       "lithium                         0\n",
       "goitre                          0\n",
       "tumor                           0\n",
       "hypopituitary                   0\n",
       "psych                           0\n",
       "TSH_measured                    0\n",
       "TSH                           380\n",
       "T3_measured                     0\n",
       "T3                           1180\n",
       "TT4_measured                    0\n",
       "TT4                           104\n",
       "T4U_measured                    0\n",
       "T4U                           416\n",
       "FTI_measured                    0\n",
       "FTI                           412\n",
       "Target                          0\n",
       "dtype: int64"
      ]
     },
     "execution_count": 18,
     "metadata": {},
     "output_type": "execute_result"
    }
   ],
   "source": [
    "Dataset.dropna(axis = 0, thresh = 22, inplace = True)\n",
    "Dataset.isna().sum()"
   ]
  },
  {
   "cell_type": "code",
   "execution_count": 19,
   "metadata": {},
   "outputs": [
    {
     "data": {
      "text/plain": [
       "age                          object\n",
       "on_thyroxine                  int64\n",
       "query_on_thyroxine            int64\n",
       "on_antithyroid_medication     int64\n",
       "sick                          int64\n",
       "pregnant                      int64\n",
       "thyroid_surgery               int64\n",
       "I131_treatment                int64\n",
       "query_hypothyroid             int64\n",
       "query_hyperthyroid            int64\n",
       "lithium                       int64\n",
       "goitre                        int64\n",
       "tumor                         int64\n",
       "hypopituitary                 int64\n",
       "psych                         int64\n",
       "TSH_measured                  int64\n",
       "TSH                          object\n",
       "T3_measured                   int64\n",
       "T3                           object\n",
       "TT4_measured                  int64\n",
       "TT4                          object\n",
       "T4U_measured                  int64\n",
       "T4U                          object\n",
       "FTI_measured                  int64\n",
       "FTI                          object\n",
       "Target                        int64\n",
       "dtype: object"
      ]
     },
     "metadata": {},
     "output_type": "display_data"
    }
   ],
   "source": [
    "Dataset = Dataset.replace({\"t\":1,\"f\":0, \"y\":1, \"n\":0, \"hypothyroid\":1, \"negative\":0,\"hyperthyroid\":2, \"F\":1, \"M\":0})\n",
    "display(Dataset.dtypes)"
   ]
  },
  {
   "cell_type": "code",
   "execution_count": 20,
   "metadata": {},
   "outputs": [
    {
     "data": {
      "text/plain": [
       "age                          float64\n",
       "on_thyroxine                   int64\n",
       "query_on_thyroxine             int64\n",
       "on_antithyroid_medication      int64\n",
       "sick                           int64\n",
       "pregnant                       int64\n",
       "thyroid_surgery                int64\n",
       "I131_treatment                 int64\n",
       "query_hypothyroid              int64\n",
       "query_hyperthyroid             int64\n",
       "lithium                        int64\n",
       "goitre                         int64\n",
       "tumor                          int64\n",
       "hypopituitary                  int64\n",
       "psych                          int64\n",
       "TSH_measured                   int64\n",
       "TSH                          float64\n",
       "T3_measured                    int64\n",
       "T3                           float64\n",
       "TT4_measured                   int64\n",
       "TT4                          float64\n",
       "T4U_measured                   int64\n",
       "T4U                          float64\n",
       "FTI_measured                   int64\n",
       "FTI                          float64\n",
       "Target                         int64\n",
       "dtype: object"
      ]
     },
     "metadata": {},
     "output_type": "display_data"
    }
   ],
   "source": [
    "cols = Dataset.columns[Dataset.dtypes.eq('object')]\n",
    "Dataset[cols] = Dataset[cols].apply(pd.to_numeric, errors='coerce')\n",
    "display(Dataset.dtypes)"
   ]
  },
  {
   "cell_type": "code",
   "execution_count": 21,
   "metadata": {},
   "outputs": [],
   "source": [
    "Dataset = Dataset.interpolate(method = 'spline', order = 3)"
   ]
  },
  {
   "cell_type": "code",
   "execution_count": 22,
   "metadata": {},
   "outputs": [
    {
     "data": {
      "text/plain": [
       "age                          0\n",
       "on_thyroxine                 0\n",
       "query_on_thyroxine           0\n",
       "on_antithyroid_medication    0\n",
       "sick                         0\n",
       "pregnant                     0\n",
       "thyroid_surgery              0\n",
       "I131_treatment               0\n",
       "query_hypothyroid            0\n",
       "query_hyperthyroid           0\n",
       "lithium                      0\n",
       "goitre                       0\n",
       "tumor                        0\n",
       "hypopituitary                0\n",
       "psych                        0\n",
       "TSH_measured                 0\n",
       "TSH                          0\n",
       "T3_measured                  0\n",
       "T3                           0\n",
       "TT4_measured                 0\n",
       "TT4                          0\n",
       "T4U_measured                 0\n",
       "T4U                          0\n",
       "FTI_measured                 0\n",
       "FTI                          0\n",
       "Target                       0\n",
       "dtype: int64"
      ]
     },
     "execution_count": 22,
     "metadata": {},
     "output_type": "execute_result"
    }
   ],
   "source": [
    "Dataset.isna().sum()"
   ]
  },
  {
   "cell_type": "code",
   "execution_count": 23,
   "metadata": {},
   "outputs": [],
   "source": [
    "Dataset = Dataset.dropna()"
   ]
  },
  {
   "cell_type": "code",
   "execution_count": 42,
   "metadata": {},
   "outputs": [],
   "source": [
    "Dataset.to_csv(r\"C:\\Users\\dwija\\OneDrive\\Thyroid-Performance-Analysis\\Data\\pre_data\\Dataset.csv\")"
   ]
  },
  {
   "cell_type": "code",
   "execution_count": 24,
   "metadata": {},
   "outputs": [],
   "source": [
    "X = Dataset.drop('Target', axis=1)  \n",
    "y = Dataset['Target']\n",
    "X_train, X_test, y_train, y_test = train_test_split(X, y, test_size=0.2, random_state=42)"
   ]
  },
  {
   "cell_type": "code",
   "execution_count": 25,
   "metadata": {},
   "outputs": [],
   "source": [
    "def results(y_test,y_pred):\n",
    "    precision = precision_score(y_test, y_pred, average='weighted',zero_division=0)\n",
    "    recall = recall_score(y_test, y_pred, average='weighted')\n",
    "    f1 = f1_score(y_test, y_pred, average='weighted')\n",
    "    accuracy = accuracy_score(y_test, y_pred)\n",
    "\n",
    "    print(f\"Precision: {precision * 100:.2f}%\")\n",
    "    print(f\"Recall: {recall * 100:.2f}%\")\n",
    "    print(f\"F1-Score: {f1 * 100:.2f}%\")\n",
    "    print(f\"Accuracy: {accuracy * 100:.2f}%\")"
   ]
  },
  {
   "cell_type": "code",
   "execution_count": 26,
   "metadata": {},
   "outputs": [
    {
     "name": "stdout",
     "output_type": "stream",
     "text": [
      "Precision: 90.67%\n",
      "Recall: 90.47%\n",
      "F1-Score: 90.57%\n",
      "Accuracy: 90.47%\n"
     ]
    }
   ],
   "source": [
    "rf_model = RandomForestClassifier(n_estimators=100, random_state=42)\n",
    "rf_model.fit(X_train, y_train)\n",
    "y_pred_rf = rf_model.predict(X_test)\n",
    "results(y_test,y_pred_rf)"
   ]
  },
  {
   "cell_type": "code",
   "execution_count": 27,
   "metadata": {},
   "outputs": [
    {
     "name": "stdout",
     "output_type": "stream",
     "text": [
      "Precision: 90.10%\n",
      "Recall: 94.92%\n",
      "F1-Score: 92.45%\n",
      "Accuracy: 94.92%\n"
     ]
    }
   ],
   "source": [
    "svm_model = SVC(kernel='linear')  # You can choose different kernels like 'linear', 'rbf', etc.\n",
    "svm_model.fit(X_train, y_train)\n",
    "y_pred_svm = svm_model.predict(X_test)\n",
    "results(y_test,y_pred_svm)"
   ]
  },
  {
   "cell_type": "code",
   "execution_count": 28,
   "metadata": {},
   "outputs": [
    {
     "name": "stderr",
     "output_type": "stream",
     "text": [
      "c:\\Users\\dwija\\anaconda3\\Lib\\site-packages\\sklearn\\base.py:465: UserWarning: X does not have valid feature names, but KNeighborsClassifier was fitted with feature names\n",
      "  warnings.warn(\n"
     ]
    },
    {
     "name": "stdout",
     "output_type": "stream",
     "text": [
      "Precision: 90.93%\n",
      "Recall: 93.74%\n",
      "F1-Score: 92.17%\n",
      "Accuracy: 93.74%\n"
     ]
    }
   ],
   "source": [
    "knn_model = KNeighborsClassifier(n_neighbors=5)\n",
    "knn_model.fit(X_train, y_train)\n",
    "X_test_array = X_test.values  \n",
    "y_pred_knn = knn_model.predict(X_test_array) \n",
    "results(y_test, y_pred_knn)\n"
   ]
  },
  {
   "cell_type": "code",
   "execution_count": 29,
   "metadata": {},
   "outputs": [
    {
     "name": "stdout",
     "output_type": "stream",
     "text": [
      "Precision: 95.95%\n",
      "Recall: 89.01%\n",
      "F1-Score: 91.47%\n",
      "Accuracy: 89.01%\n"
     ]
    }
   ],
   "source": [
    "gb_model = GradientBoostingClassifier(n_estimators=100, learning_rate=1.0, max_depth=1, random_state=42)\n",
    "gb_model.fit(X_train, y_train)\n",
    "y_pred_gb = gb_model.predict(X_test)\n",
    "results(y_test, y_pred_gb)"
   ]
  },
  {
   "cell_type": "code",
   "execution_count": 33,
   "metadata": {},
   "outputs": [
    {
     "name": "stdout",
     "output_type": "stream",
     "text": [
      "Precision: 91.99%\n",
      "Recall: 91.66%\n",
      "F1-Score: 91.82%\n",
      "Accuracy: 91.66%\n"
     ]
    }
   ],
   "source": [
    "xgb_model = XGBClassifier(n_estimators=100, random_state=42)  \n",
    "xgb_model.fit(X_train, y_train)\n",
    "y_pred_xgb = xgb_model.predict(X_test)\n",
    "\n",
    "results(y_test, y_pred_xgb)"
   ]
  },
  {
   "cell_type": "code",
   "execution_count": 34,
   "metadata": {},
   "outputs": [
    {
     "name": "stdout",
     "output_type": "stream",
     "text": [
      "Precision: 93.90%\n",
      "Recall: 94.58%\n",
      "F1-Score: 92.41%\n",
      "Accuracy: 94.58%\n"
     ]
    }
   ],
   "source": [
    "nb_model = BernoulliNB()\n",
    "nb_model.fit(X_train, y_train)\n",
    "y_pred_gnb = nb_model.predict(X_test)\n",
    "results(y_test, y_pred_gnb)"
   ]
  },
  {
   "cell_type": "code",
   "execution_count": 35,
   "metadata": {},
   "outputs": [
    {
     "name": "stdout",
     "output_type": "stream",
     "text": [
      "Precision: 91.21%\n",
      "Recall: 90.89%\n",
      "F1-Score: 91.05%\n",
      "Accuracy: 90.89%\n"
     ]
    }
   ],
   "source": [
    "dt_model = DecisionTreeClassifier(random_state=42)\n",
    "dt_model.fit(X_train, y_train)\n",
    "y_pred_dt = dt_model.predict(X_test)\n",
    "results(y_test, y_pred_dt)"
   ]
  },
  {
   "cell_type": "code",
   "execution_count": 36,
   "metadata": {},
   "outputs": [],
   "source": [
    "models_dict = {\n",
    "    'RandomForest': rf_model,\n",
    "    'SVC': svm_model,\n",
    "    'KNeighbors': knn_model,\n",
    "    'GradientBoosting': gb_model,\n",
    "    'XGBoost': xgb_model,\n",
    "    'BernoulliNB': nb_model,\n",
    "    'DecisionTree': dt_model,\n",
    "}"
   ]
  },
  {
   "cell_type": "code",
   "execution_count": 39,
   "metadata": {},
   "outputs": [
    {
     "name": "stdout",
     "output_type": "stream",
     "text": [
      "Models saved to C:\\Users\\dwija\\OneDrive\\Thyroid-Performance-Analysis\\SAVED_MODEL/models.pkl\n"
     ]
    }
   ],
   "source": [
    "folder_path = r'C:\\Users\\dwija\\OneDrive\\Thyroid-Performance-Analysis\\SAVED_MODEL'\n",
    "file_name = 'models.pkl'\n",
    "full_path = f'{folder_path}/{file_name}'\n",
    "\n",
    "# Save the dictionary of models using pickle\n",
    "with open(full_path, 'wb') as file:\n",
    "    pickle.dump(models_dict, file)\n",
    "\n",
    "print(f'Models saved to {full_path}')"
   ]
  }
 ],
 "metadata": {
  "kernelspec": {
   "display_name": "Python 3",
   "language": "python",
   "name": "python3"
  },
  "language_info": {
   "codemirror_mode": {
    "name": "ipython",
    "version": 3
   },
   "file_extension": ".py",
   "mimetype": "text/x-python",
   "name": "python",
   "nbconvert_exporter": "python",
   "pygments_lexer": "ipython3",
   "version": "3.11.5"
  }
 },
 "nbformat": 4,
 "nbformat_minor": 2
}
