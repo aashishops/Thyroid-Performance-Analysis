{
 "cells": [
  {
   "cell_type": "code",
   "execution_count": 8,
   "metadata": {},
   "outputs": [],
   "source": [
    "import pickle\n",
    "import matplotlib.pyplot as plt\n",
    "import pandas as pd\n",
    "from sklearn.metrics import precision_score, recall_score, f1_score, accuracy_score\n",
    "from sklearn.model_selection import train_test_split"
   ]
  },
  {
   "cell_type": "code",
   "execution_count": 14,
   "metadata": {},
   "outputs": [],
   "source": [
    "with open(r'E:\\College\\2nd year\\Winter project\\Thyroid Performance Analysis\\SAVED_MODEL\\models.pkl', 'rb') as file:\n",
    "    models = pickle.load(file)"
   ]
  },
  {
   "cell_type": "code",
   "execution_count": 10,
   "metadata": {},
   "outputs": [],
   "source": [
    "# with open(r'C:\\Users\\dwija\\OneDrive\\Thyroid-Performance-Analysis\\SAVED_MODEL\\models.pkl', 'rb') as file:\n",
    "#     models_dict = pickle.load(file)"
   ]
  },
  {
   "cell_type": "code",
   "execution_count": 9,
   "metadata": {},
   "outputs": [],
   "source": [
    "def results(y_test,y_pred):\n",
    "    precision = precision_score(y_test, y_pred, average='weighted',zero_division=0)\n",
    "    recall = recall_score(y_test, y_pred, average='weighted')\n",
    "    f1 = f1_score(y_test, y_pred, average='weighted')\n",
    "    accuracy = accuracy_score(y_test, y_pred)\n",
    "\n",
    "    print(f\"Precision: {precision * 100:.2f}%\")\n",
    "    print(f\"Recall: {recall * 100:.2f}%\")\n",
    "    print(f\"F1-Score: {f1 * 100:.2f}%\")\n",
    "    print(f\"Accuracy: {accuracy * 100:.2f}%\")"
   ]
  },
  {
   "cell_type": "code",
   "execution_count": 10,
   "metadata": {},
   "outputs": [],
   "source": [
    "Dataset = pd.read_csv(r'E:\\College\\2nd year\\Winter project\\Thyroid Performance Analysis\\Data\\pre_data\\Dataset.csv')"
   ]
  },
  {
   "cell_type": "code",
   "execution_count": 27,
   "metadata": {},
   "outputs": [],
   "source": [
    "Dataset = Dataset.drop('Unnamed: 0', axis=1) "
   ]
  },
  {
   "cell_type": "code",
   "execution_count": 28,
   "metadata": {},
   "outputs": [],
   "source": [
    "X = Dataset.drop('Target', axis=1)  \n",
    "\n",
    "y = Dataset['Target']\n",
    "X_train, X_test, y_train, y_test = train_test_split(X, y, test_size=0.2, random_state=42)"
   ]
  },
  {
   "cell_type": "code",
   "execution_count": 36,
   "metadata": {},
   "outputs": [
    {
     "name": "stdout",
     "output_type": "stream",
     "text": [
      "RandomForest :\n",
      "Precision: 90.67%\n",
      "Recall: 90.47%\n",
      "F1-Score: 90.57%\n",
      "Accuracy: 90.47%\n",
      "\n",
      "\n",
      "SVC :\n",
      "Precision: 90.10%\n",
      "Recall: 94.92%\n",
      "F1-Score: 92.45%\n",
      "Accuracy: 94.92%\n",
      "\n",
      "\n",
      "KNeighbors :\n",
      "Precision: 90.94%\n",
      "Recall: 93.88%\n",
      "F1-Score: 92.24%\n",
      "Accuracy: 93.88%\n",
      "\n",
      "\n",
      "GradientBoosting :\n",
      "Precision: 95.95%\n",
      "Recall: 89.01%\n",
      "F1-Score: 91.47%\n",
      "Accuracy: 89.01%\n",
      "\n",
      "\n",
      "XGBoost :\n",
      "Precision: 91.99%\n",
      "Recall: 91.66%\n",
      "F1-Score: 91.82%\n",
      "Accuracy: 91.66%\n",
      "\n",
      "\n",
      "BernoulliNB :\n",
      "Precision: 93.90%\n",
      "Recall: 94.58%\n",
      "F1-Score: 92.41%\n",
      "Accuracy: 94.58%\n",
      "\n",
      "\n",
      "DecisionTree :\n",
      "Precision: 91.21%\n",
      "Recall: 90.89%\n",
      "F1-Score: 91.05%\n",
      "Accuracy: 90.89%\n",
      "\n",
      "\n"
     ]
    }
   ],
   "source": [
    "for model_name, model in models.items():\n",
    "    \n",
    "    y_pred = model.predict(X_test)\n",
    "    print(model_name,\":\")\n",
    "    results(y_test,y_pred)\n",
    "    print(\"\\n\")"
   ]
  }
 ],
 "metadata": {
  "kernelspec": {
   "display_name": "base",
   "language": "python",
   "name": "python3"
  },
  "language_info": {
   "codemirror_mode": {
    "name": "ipython",
    "version": 3
   },
   "file_extension": ".py",
   "mimetype": "text/x-python",
   "name": "python",
   "nbconvert_exporter": "python",
   "pygments_lexer": "ipython3",
   "version": "3.11.4"
  }
 },
 "nbformat": 4,
 "nbformat_minor": 2
}
