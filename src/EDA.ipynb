{
 "cells": [
  {
   "cell_type": "code",
   "execution_count": 1,
   "metadata": {},
   "outputs": [],
   "source": [
    "import pandas as pd\n",
    "import matplotlib.pyplot as plt\n",
    "import seaborn as sns"
   ]
  },
  {
   "cell_type": "code",
   "execution_count": 15,
   "metadata": {},
   "outputs": [],
   "source": [
    "data_path = r\"E:\\2nd year\\Winter project\\Thyroid Performance Analysis\\Data\""
   ]
  },
  {
   "cell_type": "code",
   "execution_count": null,
   "metadata": {},
   "outputs": [],
   "source": [
    "data_path = r\"C:/Users/dwija/OneDrive/Thyroid-Performance-Analysis/Data\""
   ]
  },
  {
   "cell_type": "code",
   "execution_count": null,
   "metadata": {},
   "outputs": [],
   "source": [
    "\"\\anntest.CSV\"\n",
    "\"\\anntrain.CSV\"\n",
    "\"\\hypothyroid.csv\"\n",
    "\"\\sick-euthyroid.CSV\"\n",
    "\"\\thyroid0387EDIT.CSV\"\n",
    "\"\\hyperTest.CSV\"\n",
    "\"\\hyperTrain.CSV\"\n",
    "\"\\hypoTest.csv\"\n",
    "\"\\hypoTrain.CSV\""
   ]
  },
  {
   "cell_type": "code",
   "execution_count": 23,
   "metadata": {},
   "outputs": [],
   "source": [
    "ann_test = pd.read_csv(data_path+r'\\anntest.CSV')\n",
    "ann_train = pd.read_csv(data_path+r'\\anntrain.CSV')\n",
    "hyper_test = pd.read_csv(data_path+r'\\hyperTest.CSV')\n",
    "hyper_train = pd.read_csv(data_path+r'\\hyperTrain.CSV')\n",
    "hypo_test = pd.read_csv(data_path+r'\\hypoTest.CSV')\n",
    "hypo_train = pd.read_csv(data_path+r'\\hypoTrain.CSV')\n",
    "all_hypo_train = pd.read_csv(data_path+r'\\hypothyroid.csv')\n",
    "euthyroid = pd.read_csv(data_path+r'\\sick-euthyroid.CSV')\n",
    "thyroid0387 = pd.read_csv(data_path+r'\\thyroid0387EDIT.CSV')"
   ]
  }
 ],
 "metadata": {
  "kernelspec": {
   "display_name": "Python 3",
   "language": "python",
   "name": "python3"
  },
  "language_info": {
   "codemirror_mode": {
    "name": "ipython",
    "version": 3
   },
   "file_extension": ".py",
   "mimetype": "text/x-python",
   "name": "python",
   "nbconvert_exporter": "python",
   "pygments_lexer": "ipython3",
   "version": "3.11.4"
  }
 },
 "nbformat": 4,
 "nbformat_minor": 2
}
